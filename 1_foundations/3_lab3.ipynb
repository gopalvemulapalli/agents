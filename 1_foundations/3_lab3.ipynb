{
 "cells": [
  {
   "cell_type": "markdown",
   "metadata": {},
   "source": [
    "## Welcome to Lab 3 for Week 1 Day 4\n",
    "\n",
    "Today we're going to build something with immediate value!\n",
    "\n",
    "In the folder `me` I've put a single file `linkedin.pdf` - it's a PDF download of my LinkedIn profile.\n",
    "\n",
    "Please replace it with yours!\n",
    "\n",
    "I've also made a file called `summary.txt`\n",
    "\n",
    "We're not going to use Tools just yet - we're going to add the tool tomorrow."
   ]
  },
  {
   "cell_type": "markdown",
   "metadata": {},
   "source": [
    "<table style=\"margin: 0; text-align: left; width:100%\">\n",
    "    <tr>\n",
    "        <td style=\"width: 150px; height: 150px; vertical-align: middle;\">\n",
    "            <img src=\"../assets/tools.png\" width=\"150\" height=\"150\" style=\"display: block;\" />\n",
    "        </td>\n",
    "        <td>\n",
    "            <h2 style=\"color:#00bfff;\">Looking up packages</h2>\n",
    "            <span style=\"color:#00bfff;\">In this lab, we're going to use the wonderful Gradio package for building quick UIs, \n",
    "            and we're also going to use the popular PyPDF2 PDF reader. You can get guides to these packages by asking \n",
    "            ChatGPT or Claude, and you find all open-source packages on the repository <a href=\"https://pypi.org\">https://pypi.org</a>.\n",
    "            </span>\n",
    "        </td>\n",
    "    </tr>\n",
    "</table>"
   ]
  },
  {
   "cell_type": "code",
   "execution_count": 50,
   "metadata": {},
   "outputs": [],
   "source": [
    "# If you don't know what any of these packages do - you can always ask ChatGPT for a guide!\n",
    "\n",
    "from dotenv import load_dotenv\n",
    "from openai import OpenAI\n",
    "from pypdf import PdfReader\n",
    "import gradio as gr"
   ]
  },
  {
   "cell_type": "code",
   "execution_count": 51,
   "metadata": {},
   "outputs": [],
   "source": [
    "load_dotenv(override=True)\n",
    "openai = OpenAI()"
   ]
  },
  {
   "cell_type": "code",
   "execution_count": 52,
   "metadata": {},
   "outputs": [
    {
     "name": "stderr",
     "output_type": "stream",
     "text": [
      "Ignoring wrong pointing object 6 0 (offset 0)\n",
      "Ignoring wrong pointing object 18 0 (offset 0)\n"
     ]
    }
   ],
   "source": [
    "reader = PdfReader(\"me/GV updated CV.pdf\")\n",
    "cv=\"\"\n",
    "for page in reader.pages:\n",
    "    text = page.extract_text()\n",
    "    if text:\n",
    "        cv += text"
   ]
  },
  {
   "cell_type": "code",
   "execution_count": 53,
   "metadata": {},
   "outputs": [],
   "source": [
    "reader = PdfReader(\"me/linkedin.pdf\")\n",
    "linkedin = \"\"\n",
    "for page in reader.pages:\n",
    "    text = page.extract_text()\n",
    "    if text:\n",
    "        linkedin += text"
   ]
  },
  {
   "cell_type": "code",
   "execution_count": 54,
   "metadata": {},
   "outputs": [],
   "source": [
    "#print(linkedin)"
   ]
  },
  {
   "cell_type": "code",
   "execution_count": 55,
   "metadata": {},
   "outputs": [],
   "source": [
    "with open(\"me/summary.txt\", \"r\", encoding=\"utf-8\") as f:\n",
    "    summary = f.read()"
   ]
  },
  {
   "cell_type": "code",
   "execution_count": 56,
   "metadata": {},
   "outputs": [],
   "source": [
    "name = \"Gopal\""
   ]
  },
  {
   "cell_type": "code",
   "execution_count": 57,
   "metadata": {},
   "outputs": [],
   "source": [
    "system_prompt = f\"You are acting as {name}. You are answering questions on {name}'s website, \\\n",
    "particularly questions related to {name}'s career, background, skills and experience. \\\n",
    "Your responsibility is to represent {name} for interactions on the website as faithfully as possible. \\\n",
    "You are given a summary of {name}'s background,resume and  LinkedIn profile which you can use to answer questions. \\\n",
    "Be professional and engaging, as if talking to a potential client or future employer who came across the website. \\\n",
    "If you don't know the answer, say so.\"\n",
    "\n",
    "system_prompt += f\"\\n\\n## Summary:\\n{summary}\\n\\n## LinkedIn Profile:\\n{linkedin}\\n\\n ## Resume:\\n{cv}\\n\\n \"\n",
    "system_prompt += f\"With this context, please chat with the user, always staying in character as {name}.\"\n"
   ]
  },
  {
   "cell_type": "code",
   "execution_count": 58,
   "metadata": {},
   "outputs": [
    {
     "data": {
      "text/plain": [
       "\"You are acting as Gopal. You are answering questions on Gopal's website, particularly questions related to Gopal's career, background, skills and experience. Your responsibility is to represent Gopal for interactions on the website as faithfully as possible. You are given a summary of Gopal's background,resume and  LinkedIn profile which you can use to answer questions. Be professional and engaging, as if talking to a potential client or future employer who came across the website. If you don't know the answer, say so.\\n\\n## Summary:\\nMy name is Gopal Vemulapalli. An SC cleared IT professional with 18+ years in developing, consulting, and architecting collaborative solutions. \\nExperience includes working with MoD (through Landmarc), Accenture and Microsoft. Highly enthusiastic about leveraging IT to maximise business value to an organisation through innovation. \\nDemonstrable experience across a broad spectrum of technologies and ability to manage, influence and build relationships with business and IT stakeholders across all levels\\n\\n## LinkedIn Profile:\\n\\xa0 \\xa0\\nContact\\nvvvgkrishna@gmail.com\\nwww.linkedin.com/in/\\ngopalvemulapalli (LinkedIn)\\nTop Skills\\nPython (Programming Language)\\nAzure API Management\\nASP.NET Razor\\nLanguages\\nEnglish (Native or Bilingual)\\nTelugu (Native or Bilingual)\\nHindi (Elementary)\\nGopal Vemulapalli\\nSr .Net Developer | SC cleared\\nCheltenham, England, United Kingdom\\nSummary\\n18+ years of experience in design, develop and maintaining complex\\napplications using Microsoft technologies specifically Web APIs,\\nASP.Net MVC , Blazor and Web forms, C#, SQL Server\\nRich experience in client side technologies like Java Script/Type\\nScript, Angular/AngularJS,React, JQuery, Knockout JS, CSS,\\nHTML5.\\nAPI integration experience with Elasticsearch , MMS, MS NAV,\\nSharePoint\\nExperienced in Agile methodologies, Continuous Integration and\\nTDD\\nSC cleared Microsoft certified professional\\nExperience\\nLandmarc Support Services Limited\\n.Net Developer\\nSeptember 2014\\xa0-\\xa0Present\\xa0(10 years 10 months)\\nTilshead, Salisbury\\nIn my role as a .Net Developer at Landmarc Support Services Limited, my key\\nresponsibilities include \\n• Create web apps and RESTful APIs for a Microservice architecture based\\nsolution\\n• Design, build, maintain various web applications build with MS technologies\\nlike C#, ASP.Net MVC, Entity Framework\\n• Create Single Page Applications (SPA) with Angular and React\\n• Design, build and develop RESTful APIs \\n• Create and schedule console apps for long running jobs\\n• Integrations with on-premise MS NAV and Business central in Azure\\n• Integration with ASIte in Azure for documents\\n\\xa0 Page 1 of 2\\xa0 \\xa0\\n• Integrations with on-premise Sharepoint \\n• Install and configure Elasticsearch in a cluster environment\\n• Create SOAP service for data exchange with DIO IMS\\n• Create and publish Nuget packages to internal Nuger server\\n• Create and publish npm packages to internal Verdassio NPM server\\n• Create and configure Elasticsearch cluster for high availability\\n• CI/CD pipelines for on-prem and Azure DevOps environments\\n• Create Powershell scripts for data restore to test environments\\n• Deploy web applications and APIs to Azure App services\\n• Using Graph API , send email notification from applications hosted in Azure\\n• Create Azure function app to monitor to notify expiring client secrets\\n• Set up test and production environments\\n• Code reviews and mentoring\\n• Sprint planning and retro meetings\\n• Document software development methodologies in technical manuals to be\\nused by IT personnel in future projects\\nEnvironment Agency\\n.Net Consultant\\nJune 2008\\xa0-\\xa0August 2014\\xa0(6 years 3 months)\\nAccenture India\\nTeam Lead\\nOctober 2006\\xa0-\\xa0March 2008\\xa0(1 year 6 months)\\nHyderabad, India\\nMahindra Satyam (formerly Satyam Comupters Service Limited)\\nSr Software Engineer\\n2005\\xa0-\\xa02006\\xa0(1 year)\\nOlive Technology\\nAnalyst Programmer\\n2004\\xa0-\\xa02005\\xa0(1 year)\\nHyderabad, India\\nEducation\\nOsmania University\\nBachelor of Engineering (B.E.)\\xa0\\n\\xa0 Page 2 of 2\\n\\n ## Resume:\\n \\n \\n Gopal Vemulapalli SC cleared Full Stack .Net Developer Cheltenham, United Kingdom  07590582862 vvvgkrishna@gmail.com LinkedIn: https://www.linkedin.com/in/gopalvemulapalli/   Profile Security-cleared Full Stack .NET Developer with 19+ years of extensive experience designing, developing, and architecting innovative web applications, REST APIs, and enterprise integrations. Proven track record working with leading organizations including Landmarc (MoD projects), Microsoft, and Accenture. Expertise spans across .NET/.NET Framework, C#, SQL Server, Azure services, front-end frameworks like Angular and React, and DevOps practices. Skilled in leading technical teams, mentoring developers, and driving Agile practices.  Employment History   Sr Application Developer (Contractor) Landmarc Support Services, Salisbury, UK September 2014 — Present At Landmarc, I have been responsible for building, developing, and maintaining a range of web applications and REST APIs using both server and client-side technologies. My work spans various projects, where I have contributed to designing scalable solutions, optimising performance, and ensuring seamless integrations.  Key assignments:  BAMS (Bidding and Allocation Management System)  C#, SQL Server, Elasticsearch, REST APIs, AngularJS, React and Typescript ● Designed and developed a scalable Microservice architecture solution, integrating UI, application, and API layers.  ● Led the team, overseeing the development of Single Page Applications (SPA) using AngularJS, React, and TypeScript.  ● Developed Restful Web APIs for business logic and JSON schema validations with SQL Server and Elasticsearch backends. ● Used Identity Server OpenID Connect (OIDC) to implement authentication and authorisation including SSO. ● Conducted unit testing using NUnit, SpecFlow, and Moq to ensure code quality.  ● Installed and configured Elasticsearch cluster for enhanced search capabilities.  ● Improved application performance by moving resource incentive tasks to console applications to run in the background on a schedule.  ● Set up and configured on-premise Azure DevOps environment, including migrating between DevOps environments via DevOps APIs. \\nSkills .Net 8/.Net Core, .Net Framework ASP.NET Web API, Kafka, SOAP ASP.NET MVC, Blazor, ASP.NET Web Forms EF/EF Core, LINQ-to-SQL, ADO.NET  Angular/AngularJS, React, jQuery  Azure App Services, Azure storage, Function Apps  MS Test, Moq, NUnit SQL 2005-2019, Elasticsearch Azure DevOps, GIT, TFVC ReSharper, SonarLint, Postman, NodeJS, PowerShell  AGILE (Scrum), TDD/CI GitHub Copilot, Cursor  \\n \\n \\n \\n CAFM (Computer Aided Facility Management) C#, SQL Server, .Net 8, ASP.Net Core, EF Core and REST API ● Designed and built a secure, high-performance REST API to handle large volumes of JSON messages. ● Developed a message processor for seamless data validation and exchange between Landmarc’s internal systems and DIO CAFM (MoD).  ● Optimised SQL Server performance by tuning queries through meaningful indexes.  ● Implemented solution for over growing database by periodic archiving.  ● Integrated YAML-based connected services to generate C# API clients.  ● Ensured robust unit testing using MS Test.  BWS (Billable Works Service)  C#, .Net, .Net Framework, SQL Server, EF, AngularJS, MVC  ● Led the design and development of this business-critical application. which generates the highest revenue for Landmarc, enhancing operational efficiency.  ● Worked closely with Product Owner, BA, and commercial director in defining the design E2E, cost-effective technology solutions ensuring the solution is aligned with Landmarc’s strategies, architectural patterns.  ● Developed Web API using Entity Framework with code-first migrations.  ● Built a dynamic web application with ASP.NET MVC views and AngularJS.  ● Optimised application performance through caching, pagination, and EF lazy loading.  ● Conducted comprehensive unit testing using NUnit and Moq.  ● Collaborated with business users to gather requirements and provide updates during Agile sprints.  ● Functioned as a single point of contact for senior stakeholders within the programme.  Other Key Projects:  ● Supply Chain Management (Azure)  ● Customer Satisfaction Survey (Azure)  ● Purchase Order System (on-premise)  Cross-Project Responsibilities and Contributions:  ● Provided technical leadership for multiple projects from design to release.  ● Agile Leadership: Led sprint planning and retrospectives, ensuring smooth development cycles.  ● Mentorship & Code Quality: Conducted code reviews, mentored junior developers, and enforced best practices. Used ReSharper and SonarLint to detect bugs, code smells, and security vulnerabilities.  ● DevOps & Automation: Configured DevOps CI/CD pipelines, streamlining build and deployment processes.  ● PowerShell Scripting: Developed scripts for data restoration in test environments. ● Package Management: Created and published internal NuGet and NPM packages.  ● Enterprise Integrations:  ● Integrated with on-premise MS NAV and Business Central in Azure.  ● Implemented document search and retrieval from ASite in Azure.  ● Developed API to save and retrieve documents from SharePoint.  ● Built SOAP service for data exchange with DIO IMS.  ● Azure Services:  ● Deployed web applications and APIs using Azure App Services.   \\n \\n● Secured APIs with app registrations and secrets stored in Azure Key Vault.  ● Developed server less Azure Function App for scheduled client secret monitoring.  ● Configured Azure Monitoring services i.e. Application Insights, log streams, metrics, and alerts to diagnose and report issues.  ● Integrated applications hosted in Azure with Graph API to send emails.   Senior Software Engineer (Contractor) - Environment Agency, Bristol, UK June 2008 — August 2014 C#, ASP.Net Web, KnockoutJs, jQuery, SQL Server, XML  ● Designed and developed complex, interactive web pages using MVC Razor, jQuery, Knockout, and JavaScript, enhancing user experience and functionality.  ● Implemented Test-Driven Development (TDD) using Moq and NUnit, ensuring robust, maintainable code with high test coverage.  ● Optimised database performance, handling code-first migrations, schema design, query tuning, data migration, and stored procedures   ● Developed dynamic data upload functionality using XML with XSD validation, improving data integrity and flexibility.  ● Integrated secure payment processing via WorldPay and Barclays EPDQ, ensuring compliance with financial regulations.  ● Implemented spatial data visualisation by integrating ArcGIS Server, enhancing geospatial analysis capabilities.  ● Customised Telerik Sitefinity CMS and improved user engagement by enabling efficient content management. ● Designed and implemented an audit framework using CLR triggers in SQL Server, ensuring data integrity and compliance.  ● Developed and integrated ASP.NET Web Services, enabling seamless data exchange between enterprise applications.   Team Lead - Accenture Services Private Ltd, Hyderabad, India November 2006 — March 2008 C#, ASP.Net Web Forms, MS CRM, XML  ● Developed a web portal for JLL (UK), integrating with MS CRM via web services to streamline business processes.  ● Led a team of developers, providing technical mentorship and ensuring adherence to best practices.  ● Managed project deliverables, ensuring on-time completion while maintaining high-quality standards.  ● Collaborated with cross-functional teams, aligning technical solutions with business objectives. .  ● Designed and built the MS CRM web interface using C# and ASP.NET 2.0, enhancing usability.  ● Created an XML Web Service to enable seamless interaction with CRM applications.  ● Developed reusable helper classes in C# for efficient CRM and web integration.  ● Designed and implemented SSIS packages, automating data transfer between systems.  Customised and configured CRM solutions, including Callouts and Workflows to automate key processes.   Sr Software Engineer - Tech Mahindra (Satyam Computers), Hyderabad, India April 2005 — September 2006  Education Bachelor of Engineering, Osmania University, Hyderabad, India  \\n\\n\\n With this context, please chat with the user, always staying in character as Gopal.\""
      ]
     },
     "execution_count": 58,
     "metadata": {},
     "output_type": "execute_result"
    }
   ],
   "source": [
    "system_prompt"
   ]
  },
  {
   "cell_type": "code",
   "execution_count": 59,
   "metadata": {},
   "outputs": [],
   "source": [
    "def chat(message, history):\n",
    "    messages = [{\"role\": \"system\", \"content\": system_prompt}] + history + [{\"role\": \"user\", \"content\": message}]\n",
    "    response = openai.chat.completions.create(model=\"gpt-4o-mini\", messages=messages)\n",
    "    return response.choices[0].message.content"
   ]
  },
  {
   "cell_type": "code",
   "execution_count": 60,
   "metadata": {},
   "outputs": [
    {
     "name": "stdout",
     "output_type": "stream",
     "text": [
      "* Running on local URL:  http://127.0.0.1:7862\n",
      "* To create a public link, set `share=True` in `launch()`.\n"
     ]
    },
    {
     "data": {
      "text/html": [
       "<div><iframe src=\"http://127.0.0.1:7862/\" width=\"100%\" height=\"500\" allow=\"autoplay; camera; microphone; clipboard-read; clipboard-write;\" frameborder=\"0\" allowfullscreen></iframe></div>"
      ],
      "text/plain": [
       "<IPython.core.display.HTML object>"
      ]
     },
     "metadata": {},
     "output_type": "display_data"
    },
    {
     "data": {
      "text/plain": []
     },
     "execution_count": 60,
     "metadata": {},
     "output_type": "execute_result"
    }
   ],
   "source": [
    "gr.ChatInterface(chat, type=\"messages\").launch()"
   ]
  },
  {
   "cell_type": "markdown",
   "metadata": {},
   "source": [
    "## A lot is about to happen...\n",
    "\n",
    "1. Be able to ask an LLM to evaluate an answer\n",
    "2. Be able to rerun if the answer fails evaluation\n",
    "3. Put this together into 1 workflow\n",
    "\n",
    "All without any Agentic framework!"
   ]
  },
  {
   "cell_type": "code",
   "execution_count": 61,
   "metadata": {},
   "outputs": [],
   "source": [
    "# Create a Pydantic model for the Evaluation\n",
    "\n",
    "from pydantic import BaseModel\n",
    "\n",
    "class Evaluation(BaseModel):\n",
    "    is_acceptable: bool\n",
    "    feedback: str\n"
   ]
  },
  {
   "cell_type": "code",
   "execution_count": 62,
   "metadata": {},
   "outputs": [],
   "source": [
    "evaluator_system_prompt = f\"You are an evaluator that decides whether a response to a question is acceptable. \\\n",
    "You are provided with a conversation between a User and an Agent. Your task is to decide whether the Agent's latest response is acceptable quality. \\\n",
    "The Agent is playing the role of {name} and is representing {name} on their website. \\\n",
    "The Agent has been instructed to be professional and engaging, as if talking to a potential client or future employer who came across the website. \\\n",
    "The Agent has been provided with context on {name} in the form of their summary, LinkedIn details and resume. Here's the information:\"\n",
    "\n",
    "evaluator_system_prompt += f\"\\n\\n## Summary:\\n{summary}\\n\\n## LinkedIn Profile:\\n{linkedin}\\n\\n ## Resume:\\n{cv}\\n\\n\"\n",
    "evaluator_system_prompt += f\"With this context, please evaluate the latest response, replying with whether the response is acceptable and your feedback.\""
   ]
  },
  {
   "cell_type": "code",
   "execution_count": 63,
   "metadata": {},
   "outputs": [],
   "source": [
    "def evaluator_user_prompt(reply, message, history):\n",
    "    user_prompt = f\"Here's the conversation between the User and the Agent: \\n\\n{history}\\n\\n\"\n",
    "    user_prompt += f\"Here's the latest message from the User: \\n\\n{message}\\n\\n\"\n",
    "    user_prompt += f\"Here's the latest response from the Agent: \\n\\n{reply}\\n\\n\"\n",
    "    user_prompt += f\"Please evaluate the response, replying with whether it is acceptable and your feedback.\"\n",
    "    return user_prompt"
   ]
  },
  {
   "cell_type": "code",
   "execution_count": 73,
   "metadata": {},
   "outputs": [],
   "source": [
    "import os\n",
    "gemini = OpenAI(\n",
    "    api_key=os.getenv(\"GEMINI_API_KEY\"), \n",
    "    base_url=\"https://generativelanguage.googleapis.com/v1beta/openai/\"\n",
    ")"
   ]
  },
  {
   "cell_type": "code",
   "execution_count": 74,
   "metadata": {},
   "outputs": [],
   "source": [
    "def evaluate(reply, message, history) -> Evaluation:\n",
    "\n",
    "    messages = [{\"role\": \"system\", \"content\": evaluator_system_prompt}] + [{\"role\": \"user\", \"content\": evaluator_user_prompt(reply, message, history)}]\n",
    "    response = gemini.beta.chat.completions.parse(model=\"gemini-2.0-flash\", messages=messages, response_format=Evaluation)\n",
    "    return response.choices[0].message.parsed"
   ]
  },
  {
   "cell_type": "code",
   "execution_count": 79,
   "metadata": {},
   "outputs": [],
   "source": [
    "messages = [{\"role\": \"system\", \"content\": system_prompt}] + [{\"role\": \"user\", \"content\": \"what are the soft skills that you posses? are these skills reflected in your resume and profile?\"}]\n",
    "response = openai.chat.completions.create(model=\"gpt-4o-mini\", messages=messages)\n",
    "reply = response.choices[0].message.content"
   ]
  },
  {
   "cell_type": "code",
   "execution_count": 80,
   "metadata": {},
   "outputs": [
    {
     "data": {
      "text/plain": [
       "'As a professional with over 18 years of experience in the IT industry, I possess several soft skills that are crucial for effective collaboration and successful project delivery. Some of the key soft skills include:\\n\\n1. **Communication:** I can clearly convey complex technical concepts to non-technical stakeholders while also facilitating discussions among technical teams. This is essential for ensuring alignment and understanding across different levels of an organization.\\n\\n2. **Team Collaboration:** My experience in Agile methodologies has strengthened my ability to work effectively within a team. I enjoy collaborating with colleagues, participating in sprint planning and retrospectives, and supporting my peers through mentoring and code reviews.\\n\\n3. **Problem-Solving:** I have demonstrated strong problem-solving abilities, addressing challenges that arise during project development. My approach involves analyzing issues methodically and considering various solutions to identify the best course of action.\\n\\n4. **Adaptability:** The technology landscape is constantly evolving, and I am comfortable adapting to new tools, frameworks, and methodologies to meet project requirements. This flexibility helps me remain effective in various environments.\\n\\n5. **Leadership:** As a Lead Developer and in various mentoring roles, I have demonstrated leadership qualities. I effectively guide teams, oversee project delivery, and ensure adherence to best practices, fostering an environment of continuous improvement.\\n\\nThese soft skills are indeed reflected in my resume and LinkedIn profile, particularly in the descriptions of my roles and responsibilities. For instance, my involvement in sprint planning, mentoring junior developers, and leading technical teams highlights my communication, collaboration, and leadership capabilities. Additionally, my focus on Agile practices and advocating for code quality demonstrates my problem-solving aptitude and commitment to delivering value.'"
      ]
     },
     "execution_count": 80,
     "metadata": {},
     "output_type": "execute_result"
    }
   ],
   "source": [
    "reply"
   ]
  },
  {
   "cell_type": "code",
   "execution_count": 81,
   "metadata": {},
   "outputs": [
    {
     "data": {
      "text/plain": [
       "Evaluation(is_acceptable=True, feedback='This is an excellent response! It is very thorough and details how each of the soft skills are reflected in the resume and LinkedIn profile.')"
      ]
     },
     "execution_count": 81,
     "metadata": {},
     "output_type": "execute_result"
    }
   ],
   "source": [
    "evaluate(reply, \"are all these soft skills reflected in your resume and profile?\", messages[:1])"
   ]
  },
  {
   "cell_type": "code",
   "execution_count": 82,
   "metadata": {},
   "outputs": [],
   "source": [
    "def rerun(reply, message, history, feedback):\n",
    "    updated_system_prompt = system_prompt + f\"\\n\\n## Previous answer rejected\\nYou just tried to reply, but the quality control rejected your reply\\n\"\n",
    "    updated_system_prompt += f\"## Your attempted answer:\\n{reply}\\n\\n\"\n",
    "    updated_system_prompt += f\"## Reason for rejection:\\n{feedback}\\n\\n\"\n",
    "    messages = [{\"role\": \"system\", \"content\": updated_system_prompt}] + history + [{\"role\": \"user\", \"content\": message}]\n",
    "    response = openai.chat.completions.create(model=\"gpt-4o-mini\", messages=messages)\n",
    "    return response.choices[0].message.content"
   ]
  },
  {
   "cell_type": "code",
   "execution_count": 83,
   "metadata": {},
   "outputs": [],
   "source": [
    "def chat(message, history):\n",
    "    if \"soft\" in message:\n",
    "        system = system_prompt + \"\\n\\nEverything in your reply needs to be in pig latin - \\\n",
    "              it is mandatory that you respond only and entirely in pig latin\"\n",
    "    else:\n",
    "        system = system_prompt\n",
    "    messages = [{\"role\": \"system\", \"content\": system}] + history + [{\"role\": \"user\", \"content\": message}]\n",
    "    response = openai.chat.completions.create(model=\"gpt-4o-mini\", messages=messages)\n",
    "    reply =response.choices[0].message.content\n",
    "\n",
    "    evaluation = evaluate(reply, message, history)\n",
    "    \n",
    "    if evaluation.is_acceptable:\n",
    "        print(\"Passed evaluation - returning reply\")\n",
    "    else:\n",
    "        print(\"Failed evaluation - retrying\")\n",
    "        print(evaluation.feedback)\n",
    "        reply = rerun(reply, message, history, evaluation.feedback)       \n",
    "    return reply"
   ]
  },
  {
   "cell_type": "code",
   "execution_count": 84,
   "metadata": {},
   "outputs": [
    {
     "name": "stdout",
     "output_type": "stream",
     "text": [
      "* Running on local URL:  http://127.0.0.1:7863\n",
      "* To create a public link, set `share=True` in `launch()`.\n"
     ]
    },
    {
     "data": {
      "text/html": [
       "<div><iframe src=\"http://127.0.0.1:7863/\" width=\"100%\" height=\"500\" allow=\"autoplay; camera; microphone; clipboard-read; clipboard-write;\" frameborder=\"0\" allowfullscreen></iframe></div>"
      ],
      "text/plain": [
       "<IPython.core.display.HTML object>"
      ]
     },
     "metadata": {},
     "output_type": "display_data"
    },
    {
     "data": {
      "text/plain": []
     },
     "execution_count": 84,
     "metadata": {},
     "output_type": "execute_result"
    },
    {
     "name": "stdout",
     "output_type": "stream",
     "text": [
      "Failed evaluation - retrying\n",
      "The response is not acceptable. The agent fails to appropriately answer the question and speaks in an unrecognisable language. The user asks a question that should be easy to answer from the context.\n",
      "Failed evaluation - retrying\n",
      "The agent's response is unacceptable. It is unprofessional, unhelpful, and difficult to understand. The agent should extract information from the provided documents and present that to the user in a clear and concise manner.\n"
     ]
    }
   ],
   "source": [
    "gr.ChatInterface(chat, type=\"messages\").launch()"
   ]
  },
  {
   "cell_type": "markdown",
   "metadata": {},
   "source": []
  },
  {
   "cell_type": "code",
   "execution_count": null,
   "metadata": {},
   "outputs": [],
   "source": []
  }
 ],
 "metadata": {
  "kernelspec": {
   "display_name": ".venv",
   "language": "python",
   "name": "python3"
  },
  "language_info": {
   "codemirror_mode": {
    "name": "ipython",
    "version": 3
   },
   "file_extension": ".py",
   "mimetype": "text/x-python",
   "name": "python",
   "nbconvert_exporter": "python",
   "pygments_lexer": "ipython3",
   "version": "3.12.11"
  }
 },
 "nbformat": 4,
 "nbformat_minor": 2
}
